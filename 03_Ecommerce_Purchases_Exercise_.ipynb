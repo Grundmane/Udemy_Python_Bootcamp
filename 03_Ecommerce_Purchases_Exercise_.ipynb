{
  "cells": [
    {
      "cell_type": "markdown",
      "metadata": {
        "id": "view-in-github",
        "colab_type": "text"
      },
      "source": [
        "<a href=\"https://colab.research.google.com/github/Grundmane/Udemy_Python_Bootcamp/blob/main/03_Ecommerce_Purchases_Exercise_.ipynb\" target=\"_parent\"><img src=\"https://colab.research.google.com/assets/colab-badge.svg\" alt=\"Open In Colab\"/></a>"
      ]
    },
    {
      "cell_type": "markdown",
      "metadata": {
        "id": "UNfLGpY8FwDV"
      },
      "source": [
        "___\n",
        "\n",
        "<a href='http://www.pieriandata.com'> <img src='../../Pierian_Data_Logo.png' /></a>\n",
        "___\n",
        "# Ecommerce Purchases Exercise\n",
        "\n",
        "In this Exercise you will be given some Fake Data about some purchases done through Amazon! Just go ahead and follow the directions and try your best to answer the questions and complete the tasks. Feel free to reference the solutions. Most of the tasks can be solved in different ways. For the most part, the questions get progressively harder.\n",
        "\n",
        "Please excuse anything that doesn't make \"Real-World\" sense in the dataframe, all the data is fake and made-up.\n",
        "\n",
        "Also note that all of these questions can be answered with one line of code.\n",
        "____\n",
        "** Import pandas and read in the Ecommerce Purchases csv file and set it to a DataFrame called ecom. **"
      ]
    },
    {
      "cell_type": "code",
      "execution_count": 1,
      "metadata": {
        "collapsed": true,
        "id": "eHTaQyuRFwDW"
      },
      "outputs": [],
      "source": [
        "import pandas as pd"
      ]
    },
    {
      "cell_type": "code",
      "execution_count": 2,
      "metadata": {
        "collapsed": true,
        "id": "dX-1M2ycFwDW"
      },
      "outputs": [],
      "source": [
        "df = pd.read_csv('Ecommerce Purchases')"
      ]
    },
    {
      "cell_type": "markdown",
      "metadata": {
        "id": "xjGFSa0nFwDW"
      },
      "source": [
        "**Check the head of the DataFrame.**"
      ]
    },
    {
      "cell_type": "code",
      "execution_count": 3,
      "metadata": {
        "colab": {
          "base_uri": "https://localhost:8080/",
          "height": 608
        },
        "id": "XQbFCV0eFwDW",
        "outputId": "b5e4bbb4-61be-4c90-f24b-363e2bcd3923"
      },
      "outputs": [
        {
          "output_type": "execute_result",
          "data": {
            "text/plain": [
              "                                             Address    Lot AM or PM  \\\n",
              "0  16629 Pace Camp Apt. 448\\nAlexisborough, NE 77...  46 in       PM   \n",
              "1  9374 Jasmine Spurs Suite 508\\nSouth John, TN 8...  28 rn       PM   \n",
              "2                   Unit 0065 Box 5052\\nDPO AP 27450  94 vE       PM   \n",
              "3              7780 Julia Fords\\nNew Stacy, WA 45798  36 vm       PM   \n",
              "4  23012 Munoz Drive Suite 337\\nNew Cynthia, TX 5...  20 IE       AM   \n",
              "\n",
              "                                        Browser Info  \\\n",
              "0  Opera/9.56.(X11; Linux x86_64; sl-SI) Presto/2...   \n",
              "1  Opera/8.93.(Windows 98; Win 9x 4.90; en-US) Pr...   \n",
              "2  Mozilla/5.0 (compatible; MSIE 9.0; Windows NT ...   \n",
              "3  Mozilla/5.0 (Macintosh; Intel Mac OS X 10_8_0 ...   \n",
              "4  Opera/9.58.(X11; Linux x86_64; it-IT) Presto/2...   \n",
              "\n",
              "                           Company       Credit Card CC Exp Date  \\\n",
              "0                  Martinez-Herman  6011929061123406       02/20   \n",
              "1  Fletcher, Richards and Whitaker  3337758169645356       11/18   \n",
              "2       Simpson, Williams and Pham      675957666125       08/19   \n",
              "3  Williams, Marshall and Buchanan  6011578504430710       02/24   \n",
              "4        Brown, Watson and Andrews  6011456623207998       10/25   \n",
              "\n",
              "   CC Security Code                  CC Provider  \\\n",
              "0               900                 JCB 16 digit   \n",
              "1               561                   Mastercard   \n",
              "2               699                 JCB 16 digit   \n",
              "3               384                     Discover   \n",
              "4               678  Diners Club / Carte Blanche   \n",
              "\n",
              "                            Email                                     Job  \\\n",
              "0               pdunlap@yahoo.com  Scientist, product/process development   \n",
              "1              anthony41@reed.com                       Drilling engineer   \n",
              "2  amymiller@morales-harrison.com                Customer service manager   \n",
              "3     brent16@olson-robinson.info                       Drilling engineer   \n",
              "4     christopherwright@gmail.com                             Fine artist   \n",
              "\n",
              "        IP Address Language  Purchase Price  \n",
              "0  149.146.147.205       el           98.14  \n",
              "1     15.160.41.51       fr           70.73  \n",
              "2   132.207.160.22       de            0.95  \n",
              "3     30.250.74.19       es           78.04  \n",
              "4     24.140.33.94       es           77.82  "
            ],
            "text/html": [
              "\n",
              "  <div id=\"df-6ac6e7ce-fc01-4f4c-8443-f4b6ec97c4a0\" class=\"colab-df-container\">\n",
              "    <div>\n",
              "<style scoped>\n",
              "    .dataframe tbody tr th:only-of-type {\n",
              "        vertical-align: middle;\n",
              "    }\n",
              "\n",
              "    .dataframe tbody tr th {\n",
              "        vertical-align: top;\n",
              "    }\n",
              "\n",
              "    .dataframe thead th {\n",
              "        text-align: right;\n",
              "    }\n",
              "</style>\n",
              "<table border=\"1\" class=\"dataframe\">\n",
              "  <thead>\n",
              "    <tr style=\"text-align: right;\">\n",
              "      <th></th>\n",
              "      <th>Address</th>\n",
              "      <th>Lot</th>\n",
              "      <th>AM or PM</th>\n",
              "      <th>Browser Info</th>\n",
              "      <th>Company</th>\n",
              "      <th>Credit Card</th>\n",
              "      <th>CC Exp Date</th>\n",
              "      <th>CC Security Code</th>\n",
              "      <th>CC Provider</th>\n",
              "      <th>Email</th>\n",
              "      <th>Job</th>\n",
              "      <th>IP Address</th>\n",
              "      <th>Language</th>\n",
              "      <th>Purchase Price</th>\n",
              "    </tr>\n",
              "  </thead>\n",
              "  <tbody>\n",
              "    <tr>\n",
              "      <th>0</th>\n",
              "      <td>16629 Pace Camp Apt. 448\\nAlexisborough, NE 77...</td>\n",
              "      <td>46 in</td>\n",
              "      <td>PM</td>\n",
              "      <td>Opera/9.56.(X11; Linux x86_64; sl-SI) Presto/2...</td>\n",
              "      <td>Martinez-Herman</td>\n",
              "      <td>6011929061123406</td>\n",
              "      <td>02/20</td>\n",
              "      <td>900</td>\n",
              "      <td>JCB 16 digit</td>\n",
              "      <td>pdunlap@yahoo.com</td>\n",
              "      <td>Scientist, product/process development</td>\n",
              "      <td>149.146.147.205</td>\n",
              "      <td>el</td>\n",
              "      <td>98.14</td>\n",
              "    </tr>\n",
              "    <tr>\n",
              "      <th>1</th>\n",
              "      <td>9374 Jasmine Spurs Suite 508\\nSouth John, TN 8...</td>\n",
              "      <td>28 rn</td>\n",
              "      <td>PM</td>\n",
              "      <td>Opera/8.93.(Windows 98; Win 9x 4.90; en-US) Pr...</td>\n",
              "      <td>Fletcher, Richards and Whitaker</td>\n",
              "      <td>3337758169645356</td>\n",
              "      <td>11/18</td>\n",
              "      <td>561</td>\n",
              "      <td>Mastercard</td>\n",
              "      <td>anthony41@reed.com</td>\n",
              "      <td>Drilling engineer</td>\n",
              "      <td>15.160.41.51</td>\n",
              "      <td>fr</td>\n",
              "      <td>70.73</td>\n",
              "    </tr>\n",
              "    <tr>\n",
              "      <th>2</th>\n",
              "      <td>Unit 0065 Box 5052\\nDPO AP 27450</td>\n",
              "      <td>94 vE</td>\n",
              "      <td>PM</td>\n",
              "      <td>Mozilla/5.0 (compatible; MSIE 9.0; Windows NT ...</td>\n",
              "      <td>Simpson, Williams and Pham</td>\n",
              "      <td>675957666125</td>\n",
              "      <td>08/19</td>\n",
              "      <td>699</td>\n",
              "      <td>JCB 16 digit</td>\n",
              "      <td>amymiller@morales-harrison.com</td>\n",
              "      <td>Customer service manager</td>\n",
              "      <td>132.207.160.22</td>\n",
              "      <td>de</td>\n",
              "      <td>0.95</td>\n",
              "    </tr>\n",
              "    <tr>\n",
              "      <th>3</th>\n",
              "      <td>7780 Julia Fords\\nNew Stacy, WA 45798</td>\n",
              "      <td>36 vm</td>\n",
              "      <td>PM</td>\n",
              "      <td>Mozilla/5.0 (Macintosh; Intel Mac OS X 10_8_0 ...</td>\n",
              "      <td>Williams, Marshall and Buchanan</td>\n",
              "      <td>6011578504430710</td>\n",
              "      <td>02/24</td>\n",
              "      <td>384</td>\n",
              "      <td>Discover</td>\n",
              "      <td>brent16@olson-robinson.info</td>\n",
              "      <td>Drilling engineer</td>\n",
              "      <td>30.250.74.19</td>\n",
              "      <td>es</td>\n",
              "      <td>78.04</td>\n",
              "    </tr>\n",
              "    <tr>\n",
              "      <th>4</th>\n",
              "      <td>23012 Munoz Drive Suite 337\\nNew Cynthia, TX 5...</td>\n",
              "      <td>20 IE</td>\n",
              "      <td>AM</td>\n",
              "      <td>Opera/9.58.(X11; Linux x86_64; it-IT) Presto/2...</td>\n",
              "      <td>Brown, Watson and Andrews</td>\n",
              "      <td>6011456623207998</td>\n",
              "      <td>10/25</td>\n",
              "      <td>678</td>\n",
              "      <td>Diners Club / Carte Blanche</td>\n",
              "      <td>christopherwright@gmail.com</td>\n",
              "      <td>Fine artist</td>\n",
              "      <td>24.140.33.94</td>\n",
              "      <td>es</td>\n",
              "      <td>77.82</td>\n",
              "    </tr>\n",
              "  </tbody>\n",
              "</table>\n",
              "</div>\n",
              "    <div class=\"colab-df-buttons\">\n",
              "\n",
              "  <div class=\"colab-df-container\">\n",
              "    <button class=\"colab-df-convert\" onclick=\"convertToInteractive('df-6ac6e7ce-fc01-4f4c-8443-f4b6ec97c4a0')\"\n",
              "            title=\"Convert this dataframe to an interactive table.\"\n",
              "            style=\"display:none;\">\n",
              "\n",
              "  <svg xmlns=\"http://www.w3.org/2000/svg\" height=\"24px\" viewBox=\"0 -960 960 960\">\n",
              "    <path d=\"M120-120v-720h720v720H120Zm60-500h600v-160H180v160Zm220 220h160v-160H400v160Zm0 220h160v-160H400v160ZM180-400h160v-160H180v160Zm440 0h160v-160H620v160ZM180-180h160v-160H180v160Zm440 0h160v-160H620v160Z\"/>\n",
              "  </svg>\n",
              "    </button>\n",
              "\n",
              "  <style>\n",
              "    .colab-df-container {\n",
              "      display:flex;\n",
              "      gap: 12px;\n",
              "    }\n",
              "\n",
              "    .colab-df-convert {\n",
              "      background-color: #E8F0FE;\n",
              "      border: none;\n",
              "      border-radius: 50%;\n",
              "      cursor: pointer;\n",
              "      display: none;\n",
              "      fill: #1967D2;\n",
              "      height: 32px;\n",
              "      padding: 0 0 0 0;\n",
              "      width: 32px;\n",
              "    }\n",
              "\n",
              "    .colab-df-convert:hover {\n",
              "      background-color: #E2EBFA;\n",
              "      box-shadow: 0px 1px 2px rgba(60, 64, 67, 0.3), 0px 1px 3px 1px rgba(60, 64, 67, 0.15);\n",
              "      fill: #174EA6;\n",
              "    }\n",
              "\n",
              "    .colab-df-buttons div {\n",
              "      margin-bottom: 4px;\n",
              "    }\n",
              "\n",
              "    [theme=dark] .colab-df-convert {\n",
              "      background-color: #3B4455;\n",
              "      fill: #D2E3FC;\n",
              "    }\n",
              "\n",
              "    [theme=dark] .colab-df-convert:hover {\n",
              "      background-color: #434B5C;\n",
              "      box-shadow: 0px 1px 3px 1px rgba(0, 0, 0, 0.15);\n",
              "      filter: drop-shadow(0px 1px 2px rgba(0, 0, 0, 0.3));\n",
              "      fill: #FFFFFF;\n",
              "    }\n",
              "  </style>\n",
              "\n",
              "    <script>\n",
              "      const buttonEl =\n",
              "        document.querySelector('#df-6ac6e7ce-fc01-4f4c-8443-f4b6ec97c4a0 button.colab-df-convert');\n",
              "      buttonEl.style.display =\n",
              "        google.colab.kernel.accessAllowed ? 'block' : 'none';\n",
              "\n",
              "      async function convertToInteractive(key) {\n",
              "        const element = document.querySelector('#df-6ac6e7ce-fc01-4f4c-8443-f4b6ec97c4a0');\n",
              "        const dataTable =\n",
              "          await google.colab.kernel.invokeFunction('convertToInteractive',\n",
              "                                                    [key], {});\n",
              "        if (!dataTable) return;\n",
              "\n",
              "        const docLinkHtml = 'Like what you see? Visit the ' +\n",
              "          '<a target=\"_blank\" href=https://colab.research.google.com/notebooks/data_table.ipynb>data table notebook</a>'\n",
              "          + ' to learn more about interactive tables.';\n",
              "        element.innerHTML = '';\n",
              "        dataTable['output_type'] = 'display_data';\n",
              "        await google.colab.output.renderOutput(dataTable, element);\n",
              "        const docLink = document.createElement('div');\n",
              "        docLink.innerHTML = docLinkHtml;\n",
              "        element.appendChild(docLink);\n",
              "      }\n",
              "    </script>\n",
              "  </div>\n",
              "\n",
              "\n",
              "<div id=\"df-97fba9e7-4896-465f-8475-1be79ea6d9c6\">\n",
              "  <button class=\"colab-df-quickchart\" onclick=\"quickchart('df-97fba9e7-4896-465f-8475-1be79ea6d9c6')\"\n",
              "            title=\"Suggest charts\"\n",
              "            style=\"display:none;\">\n",
              "\n",
              "<svg xmlns=\"http://www.w3.org/2000/svg\" height=\"24px\"viewBox=\"0 0 24 24\"\n",
              "     width=\"24px\">\n",
              "    <g>\n",
              "        <path d=\"M19 3H5c-1.1 0-2 .9-2 2v14c0 1.1.9 2 2 2h14c1.1 0 2-.9 2-2V5c0-1.1-.9-2-2-2zM9 17H7v-7h2v7zm4 0h-2V7h2v10zm4 0h-2v-4h2v4z\"/>\n",
              "    </g>\n",
              "</svg>\n",
              "  </button>\n",
              "\n",
              "<style>\n",
              "  .colab-df-quickchart {\n",
              "      --bg-color: #E8F0FE;\n",
              "      --fill-color: #1967D2;\n",
              "      --hover-bg-color: #E2EBFA;\n",
              "      --hover-fill-color: #174EA6;\n",
              "      --disabled-fill-color: #AAA;\n",
              "      --disabled-bg-color: #DDD;\n",
              "  }\n",
              "\n",
              "  [theme=dark] .colab-df-quickchart {\n",
              "      --bg-color: #3B4455;\n",
              "      --fill-color: #D2E3FC;\n",
              "      --hover-bg-color: #434B5C;\n",
              "      --hover-fill-color: #FFFFFF;\n",
              "      --disabled-bg-color: #3B4455;\n",
              "      --disabled-fill-color: #666;\n",
              "  }\n",
              "\n",
              "  .colab-df-quickchart {\n",
              "    background-color: var(--bg-color);\n",
              "    border: none;\n",
              "    border-radius: 50%;\n",
              "    cursor: pointer;\n",
              "    display: none;\n",
              "    fill: var(--fill-color);\n",
              "    height: 32px;\n",
              "    padding: 0;\n",
              "    width: 32px;\n",
              "  }\n",
              "\n",
              "  .colab-df-quickchart:hover {\n",
              "    background-color: var(--hover-bg-color);\n",
              "    box-shadow: 0 1px 2px rgba(60, 64, 67, 0.3), 0 1px 3px 1px rgba(60, 64, 67, 0.15);\n",
              "    fill: var(--button-hover-fill-color);\n",
              "  }\n",
              "\n",
              "  .colab-df-quickchart-complete:disabled,\n",
              "  .colab-df-quickchart-complete:disabled:hover {\n",
              "    background-color: var(--disabled-bg-color);\n",
              "    fill: var(--disabled-fill-color);\n",
              "    box-shadow: none;\n",
              "  }\n",
              "\n",
              "  .colab-df-spinner {\n",
              "    border: 2px solid var(--fill-color);\n",
              "    border-color: transparent;\n",
              "    border-bottom-color: var(--fill-color);\n",
              "    animation:\n",
              "      spin 1s steps(1) infinite;\n",
              "  }\n",
              "\n",
              "  @keyframes spin {\n",
              "    0% {\n",
              "      border-color: transparent;\n",
              "      border-bottom-color: var(--fill-color);\n",
              "      border-left-color: var(--fill-color);\n",
              "    }\n",
              "    20% {\n",
              "      border-color: transparent;\n",
              "      border-left-color: var(--fill-color);\n",
              "      border-top-color: var(--fill-color);\n",
              "    }\n",
              "    30% {\n",
              "      border-color: transparent;\n",
              "      border-left-color: var(--fill-color);\n",
              "      border-top-color: var(--fill-color);\n",
              "      border-right-color: var(--fill-color);\n",
              "    }\n",
              "    40% {\n",
              "      border-color: transparent;\n",
              "      border-right-color: var(--fill-color);\n",
              "      border-top-color: var(--fill-color);\n",
              "    }\n",
              "    60% {\n",
              "      border-color: transparent;\n",
              "      border-right-color: var(--fill-color);\n",
              "    }\n",
              "    80% {\n",
              "      border-color: transparent;\n",
              "      border-right-color: var(--fill-color);\n",
              "      border-bottom-color: var(--fill-color);\n",
              "    }\n",
              "    90% {\n",
              "      border-color: transparent;\n",
              "      border-bottom-color: var(--fill-color);\n",
              "    }\n",
              "  }\n",
              "</style>\n",
              "\n",
              "  <script>\n",
              "    async function quickchart(key) {\n",
              "      const quickchartButtonEl =\n",
              "        document.querySelector('#' + key + ' button');\n",
              "      quickchartButtonEl.disabled = true;  // To prevent multiple clicks.\n",
              "      quickchartButtonEl.classList.add('colab-df-spinner');\n",
              "      try {\n",
              "        const charts = await google.colab.kernel.invokeFunction(\n",
              "            'suggestCharts', [key], {});\n",
              "      } catch (error) {\n",
              "        console.error('Error during call to suggestCharts:', error);\n",
              "      }\n",
              "      quickchartButtonEl.classList.remove('colab-df-spinner');\n",
              "      quickchartButtonEl.classList.add('colab-df-quickchart-complete');\n",
              "    }\n",
              "    (() => {\n",
              "      let quickchartButtonEl =\n",
              "        document.querySelector('#df-97fba9e7-4896-465f-8475-1be79ea6d9c6 button');\n",
              "      quickchartButtonEl.style.display =\n",
              "        google.colab.kernel.accessAllowed ? 'block' : 'none';\n",
              "    })();\n",
              "  </script>\n",
              "</div>\n",
              "    </div>\n",
              "  </div>\n"
            ],
            "application/vnd.google.colaboratory.intrinsic+json": {
              "type": "dataframe",
              "variable_name": "df",
              "summary": "{\n  \"name\": \"df\",\n  \"rows\": 3812,\n  \"fields\": [\n    {\n      \"column\": \"Address\",\n      \"properties\": {\n        \"dtype\": \"string\",\n        \"num_unique_values\": 3812,\n        \"samples\": [\n          \"706 Theodore Fords Suite 920\\nWest Brian, OH 46874-1394\",\n          \"3830 James Camp Apt. 722\\nMataberg, NE 94730-2554\",\n          \"09801 Davis Falls Apt. 217\\nMurphyfurt, GU 10094\"\n        ],\n        \"semantic_type\": \"\",\n        \"description\": \"\"\n      }\n    },\n    {\n      \"column\": \"Lot\",\n      \"properties\": {\n        \"dtype\": \"string\",\n        \"num_unique_values\": 3787,\n        \"samples\": [\n          \"68 yj\",\n          \"02 ms\",\n          \"73 jE\"\n        ],\n        \"semantic_type\": \"\",\n        \"description\": \"\"\n      }\n    },\n    {\n      \"column\": \"AM or PM\",\n      \"properties\": {\n        \"dtype\": \"category\",\n        \"num_unique_values\": 2,\n        \"samples\": [\n          \"AM\",\n          \"PM\"\n        ],\n        \"semantic_type\": \"\",\n        \"description\": \"\"\n      }\n    },\n    {\n      \"column\": \"Browser Info\",\n      \"properties\": {\n        \"dtype\": \"string\",\n        \"num_unique_values\": 3370,\n        \"samples\": [\n          \"Mozilla/5.0 (Macintosh; U; PPC Mac OS X 10_8_5; rv:1.9.6.20) Gecko/2014-07-16 04:45:12 Firefox/3.6.15\",\n          \"Mozilla/5.0 (Windows 95; sl-SI; rv:1.9.2.20) Gecko/2011-02-02 04:55:13 Firefox/3.8\"\n        ],\n        \"semantic_type\": \"\",\n        \"description\": \"\"\n      }\n    },\n    {\n      \"column\": \"Company\",\n      \"properties\": {\n        \"dtype\": \"string\",\n        \"num_unique_values\": 3542,\n        \"samples\": [\n          \"Joseph Inc\",\n          \"Clay PLC\"\n        ],\n        \"semantic_type\": \"\",\n        \"description\": \"\"\n      }\n    },\n    {\n      \"column\": \"Credit Card\",\n      \"properties\": {\n        \"dtype\": \"number\",\n        \"std\": 2276817737350552,\n        \"min\": 60402580488,\n        \"max\": 6011999761615928,\n        \"num_unique_values\": 3812,\n        \"samples\": [\n          4954937088231825,\n          3096729351555696\n        ],\n        \"semantic_type\": \"\",\n        \"description\": \"\"\n      }\n    },\n    {\n      \"column\": \"CC Exp Date\",\n      \"properties\": {\n        \"dtype\": \"category\",\n        \"num_unique_values\": 121,\n        \"samples\": [\n          \"11/23\",\n          \"01/24\"\n        ],\n        \"semantic_type\": \"\",\n        \"description\": \"\"\n      }\n    },\n    {\n      \"column\": \"CC Security Code\",\n      \"properties\": {\n        \"dtype\": \"number\",\n        \"std\": 1558,\n        \"min\": 0,\n        \"max\": 9993,\n        \"num_unique_values\": 1247,\n        \"samples\": [\n          640,\n          866\n        ],\n        \"semantic_type\": \"\",\n        \"description\": \"\"\n      }\n    },\n    {\n      \"column\": \"CC Provider\",\n      \"properties\": {\n        \"dtype\": \"category\",\n        \"num_unique_values\": 10,\n        \"samples\": [\n          \"JCB 15 digit\",\n          \"Mastercard\"\n        ],\n        \"semantic_type\": \"\",\n        \"description\": \"\"\n      }\n    },\n    {\n      \"column\": \"Email\",\n      \"properties\": {\n        \"dtype\": \"string\",\n        \"num_unique_values\": 3806,\n        \"samples\": [\n          \"jamiewilkinson@christensen-gonzalez.biz\",\n          \"sullivaneric@hotmail.com\"\n        ],\n        \"semantic_type\": \"\",\n        \"description\": \"\"\n      }\n    },\n    {\n      \"column\": \"Job\",\n      \"properties\": {\n        \"dtype\": \"category\",\n        \"num_unique_values\": 622,\n        \"samples\": [\n          \"Engineer, structural\",\n          \"Hydrogeologist\"\n        ],\n        \"semantic_type\": \"\",\n        \"description\": \"\"\n      }\n    },\n    {\n      \"column\": \"IP Address\",\n      \"properties\": {\n        \"dtype\": \"string\",\n        \"num_unique_values\": 3812,\n        \"samples\": [\n          \"156.100.53.243\",\n          \"186.185.63.113\"\n        ],\n        \"semantic_type\": \"\",\n        \"description\": \"\"\n      }\n    },\n    {\n      \"column\": \"Language\",\n      \"properties\": {\n        \"dtype\": \"category\",\n        \"num_unique_values\": 9,\n        \"samples\": [\n          \"en\",\n          \"fr\"\n        ],\n        \"semantic_type\": \"\",\n        \"description\": \"\"\n      }\n    },\n    {\n      \"column\": \"Purchase Price\",\n      \"properties\": {\n        \"dtype\": \"number\",\n        \"std\": 28.757396081845755,\n        \"min\": 0.0,\n        \"max\": 99.99,\n        \"num_unique_values\": 3164,\n        \"samples\": [\n          29.95,\n          88.87\n        ],\n        \"semantic_type\": \"\",\n        \"description\": \"\"\n      }\n    }\n  ]\n}"
            }
          },
          "metadata": {},
          "execution_count": 3
        }
      ],
      "source": [
        "df.head()"
      ]
    },
    {
      "cell_type": "markdown",
      "metadata": {
        "id": "zpSV00HmFwDX"
      },
      "source": [
        "** How many rows and columns are there? **"
      ]
    },
    {
      "cell_type": "code",
      "execution_count": 4,
      "metadata": {
        "colab": {
          "base_uri": "https://localhost:8080/"
        },
        "id": "NqpI9ex4FwDX",
        "outputId": "e3bf4b05-e11f-406c-d816-f871ff8b6bca"
      },
      "outputs": [
        {
          "output_type": "execute_result",
          "data": {
            "text/plain": [
              "14"
            ]
          },
          "metadata": {},
          "execution_count": 4
        }
      ],
      "source": [
        "len(df.columns)"
      ]
    },
    {
      "cell_type": "code",
      "source": [
        "len(df.index)"
      ],
      "metadata": {
        "colab": {
          "base_uri": "https://localhost:8080/"
        },
        "id": "bqoJZ-sJSiLJ",
        "outputId": "0afa9ae2-1acd-4666-e1e7-812bf9d57b61"
      },
      "execution_count": 5,
      "outputs": [
        {
          "output_type": "execute_result",
          "data": {
            "text/plain": [
              "3812"
            ]
          },
          "metadata": {},
          "execution_count": 5
        }
      ]
    },
    {
      "cell_type": "markdown",
      "metadata": {
        "id": "F_AH8mT4FwDX"
      },
      "source": [
        "** What is the average Purchase Price? **"
      ]
    },
    {
      "cell_type": "code",
      "execution_count": 6,
      "metadata": {
        "colab": {
          "base_uri": "https://localhost:8080/"
        },
        "id": "kiioW2XaFwDX",
        "outputId": "8bb83300-371c-4b0f-d3d2-e514006cea8e"
      },
      "outputs": [
        {
          "output_type": "execute_result",
          "data": {
            "text/plain": [
              "50.30394647074259"
            ]
          },
          "metadata": {},
          "execution_count": 6
        }
      ],
      "source": [
        "df['Purchase Price'].mean()"
      ]
    },
    {
      "cell_type": "markdown",
      "metadata": {
        "id": "QR6m2x7eFwDX"
      },
      "source": [
        "** What were the highest and lowest purchase prices? **"
      ]
    },
    {
      "cell_type": "code",
      "execution_count": 8,
      "metadata": {
        "colab": {
          "base_uri": "https://localhost:8080/"
        },
        "id": "kjEYNK94FwDX",
        "outputId": "9e5ef827-448f-44b0-d7f8-a56ad86c09fe"
      },
      "outputs": [
        {
          "output_type": "execute_result",
          "data": {
            "text/plain": [
              "99.99"
            ]
          },
          "metadata": {},
          "execution_count": 8
        }
      ],
      "source": [
        "df['Purchase Price'].max()"
      ]
    },
    {
      "cell_type": "code",
      "execution_count": 7,
      "metadata": {
        "colab": {
          "base_uri": "https://localhost:8080/"
        },
        "id": "58CeKXCGFwDX",
        "outputId": "fb9268b3-6d22-43d1-f27a-70eb3451ff8f"
      },
      "outputs": [
        {
          "output_type": "execute_result",
          "data": {
            "text/plain": [
              "0.0"
            ]
          },
          "metadata": {},
          "execution_count": 7
        }
      ],
      "source": [
        "df['Purchase Price'].min()"
      ]
    },
    {
      "cell_type": "markdown",
      "metadata": {
        "id": "eYgbL5OmFwDY"
      },
      "source": [
        "** How many people have English 'en' as their Language of choice on the website? **"
      ]
    },
    {
      "cell_type": "code",
      "execution_count": 16,
      "metadata": {
        "colab": {
          "base_uri": "https://localhost:8080/"
        },
        "id": "bEWEvrtIFwDY",
        "outputId": "25bee5cd-5960-4915-fd7c-316993ca5ffa"
      },
      "outputs": [
        {
          "output_type": "execute_result",
          "data": {
            "text/plain": [
              "416"
            ]
          },
          "metadata": {},
          "execution_count": 16
        }
      ],
      "source": [
        "df[df['Language'] == 'en']['Language'].count()"
      ]
    },
    {
      "cell_type": "markdown",
      "metadata": {
        "id": "VE2lMOpTFwDY"
      },
      "source": [
        "** How many people have the job title of \"Lawyer\" ? **\n"
      ]
    },
    {
      "cell_type": "code",
      "execution_count": 17,
      "metadata": {
        "colab": {
          "base_uri": "https://localhost:8080/"
        },
        "id": "bykgPU7JFwDY",
        "outputId": "3bca8768-c206-4c68-bf9a-49a2487c06c4"
      },
      "outputs": [
        {
          "output_type": "execute_result",
          "data": {
            "text/plain": [
              "Address             10\n",
              "Lot                 10\n",
              "AM or PM            10\n",
              "Browser Info        10\n",
              "Company             10\n",
              "Credit Card         10\n",
              "CC Exp Date         10\n",
              "CC Security Code    10\n",
              "CC Provider         10\n",
              "Email               10\n",
              "Job                 10\n",
              "IP Address          10\n",
              "Language            10\n",
              "Purchase Price      10\n",
              "dtype: int64"
            ]
          },
          "metadata": {},
          "execution_count": 17
        }
      ],
      "source": [
        "df[df['Job'] ==\"Lawyer\"].count()"
      ]
    },
    {
      "cell_type": "markdown",
      "metadata": {
        "id": "XCgpKsD7FwDY"
      },
      "source": [
        "** How many people made the purchase during the AM and how many people made the purchase during PM ? **\n",
        "\n",
        "**(Hint: Check out [value_counts()](http://pandas.pydata.org/pandas-docs/stable/generated/pandas.Series.value_counts.html) ) **"
      ]
    },
    {
      "cell_type": "code",
      "execution_count": 19,
      "metadata": {
        "colab": {
          "base_uri": "https://localhost:8080/"
        },
        "id": "gQLLxP7sFwDY",
        "outputId": "6799d666-fe24-4e1c-bfaf-40bd81dad99c"
      },
      "outputs": [
        {
          "output_type": "execute_result",
          "data": {
            "text/plain": [
              "PM    1975\n",
              "AM    1837\n",
              "Name: AM or PM, dtype: int64"
            ]
          },
          "metadata": {},
          "execution_count": 19
        }
      ],
      "source": [
        "df['AM or PM'].value_counts()"
      ]
    },
    {
      "cell_type": "markdown",
      "metadata": {
        "id": "pIilO7idFwDY"
      },
      "source": [
        "** What are the 5 most common Job Titles? **"
      ]
    },
    {
      "cell_type": "code",
      "execution_count": 22,
      "metadata": {
        "colab": {
          "base_uri": "https://localhost:8080/"
        },
        "id": "7qaDr-fYFwDZ",
        "outputId": "c99c7eb0-26b4-460e-ef1f-45fd474b8b36"
      },
      "outputs": [
        {
          "output_type": "execute_result",
          "data": {
            "text/plain": [
              "Interior and spatial designer    15\n",
              "Designer, jewellery              15\n",
              "Warden/ranger                    13\n",
              "Charity fundraiser               13\n",
              "Careers adviser                  13\n",
              "Name: Job, dtype: int64"
            ]
          },
          "metadata": {},
          "execution_count": 22
        }
      ],
      "source": [
        "df['Job'].value_counts().head(5)"
      ]
    },
    {
      "cell_type": "markdown",
      "metadata": {
        "id": "X0wAgbP4FwDZ"
      },
      "source": [
        "** Someone made a purchase that came from Lot: \"90 WT\" , what was the Purchase Price for this transaction? **"
      ]
    },
    {
      "cell_type": "code",
      "execution_count": 25,
      "metadata": {
        "colab": {
          "base_uri": "https://localhost:8080/"
        },
        "id": "21JpYPprFwDZ",
        "outputId": "b676e9b2-6d32-44fe-e877-647586e20660"
      },
      "outputs": [
        {
          "output_type": "execute_result",
          "data": {
            "text/plain": [
              "513    75.1\n",
              "Name: Purchase Price, dtype: float64"
            ]
          },
          "metadata": {},
          "execution_count": 25
        }
      ],
      "source": [
        "df[df['Lot'] == '90 WT']['Purchase Price']"
      ]
    },
    {
      "cell_type": "markdown",
      "metadata": {
        "id": "TqwMwV-SFwDZ"
      },
      "source": [
        "** What is the email of the person with the following Credit Card Number: 4926535242672853 **"
      ]
    },
    {
      "cell_type": "code",
      "execution_count": 26,
      "metadata": {
        "colab": {
          "base_uri": "https://localhost:8080/"
        },
        "id": "7MpPz8iCFwDZ",
        "outputId": "20478fd2-602a-4b39-8fd6-64f4474b8a92"
      },
      "outputs": [
        {
          "output_type": "execute_result",
          "data": {
            "text/plain": [
              "1234    bondellen@williams-garza.com\n",
              "Name: Email, dtype: object"
            ]
          },
          "metadata": {},
          "execution_count": 26
        }
      ],
      "source": [
        "df[df['Credit Card'] == 4926535242672853]['Email']"
      ]
    },
    {
      "cell_type": "markdown",
      "metadata": {
        "id": "P24ZiXCmFwDZ"
      },
      "source": [
        "** How many people have American Express as their Credit Card Provider *and* made a purchase above $95 ?**"
      ]
    },
    {
      "cell_type": "code",
      "execution_count": 31,
      "metadata": {
        "colab": {
          "base_uri": "https://localhost:8080/"
        },
        "id": "qdYCEQ8bFwDZ",
        "outputId": "27f7e8e7-a37b-4774-ddcd-1f8ad079a661"
      },
      "outputs": [
        {
          "output_type": "execute_result",
          "data": {
            "text/plain": [
              "Address             18\n",
              "Lot                 18\n",
              "AM or PM            18\n",
              "Browser Info        18\n",
              "Company             18\n",
              "Credit Card         18\n",
              "CC Exp Date         18\n",
              "CC Security Code    18\n",
              "CC Provider         18\n",
              "Email               18\n",
              "Job                 18\n",
              "IP Address          18\n",
              "Language            18\n",
              "Purchase Price      18\n",
              "dtype: int64"
            ]
          },
          "metadata": {},
          "execution_count": 31
        }
      ],
      "source": [
        "df[(df['CC Provider'] == 'American Express') & (df['Purchase Price']>95) ].count()"
      ]
    },
    {
      "cell_type": "markdown",
      "metadata": {
        "id": "dcVgN7YIFwDZ"
      },
      "source": [
        "** Hard: How many people have a credit card that expires in 2025? **"
      ]
    },
    {
      "cell_type": "code",
      "source": [],
      "metadata": {
        "id": "9NNBPcS9aaGV"
      },
      "execution_count": null,
      "outputs": []
    },
    {
      "cell_type": "code",
      "execution_count": 36,
      "metadata": {
        "colab": {
          "base_uri": "https://localhost:8080/"
        },
        "id": "6o9XWW_nFwDZ",
        "outputId": "f917e230-ce6c-40a8-8df7-c17c07f08b1a"
      },
      "outputs": [
        {
          "output_type": "execute_result",
          "data": {
            "text/plain": [
              "Address             408\n",
              "Lot                 408\n",
              "AM or PM            408\n",
              "Browser Info        408\n",
              "Company             408\n",
              "Credit Card         408\n",
              "CC Exp Date         408\n",
              "CC Security Code    408\n",
              "CC Provider         408\n",
              "Email               408\n",
              "Job                 408\n",
              "IP Address          408\n",
              "Language            408\n",
              "Purchase Price      408\n",
              "dtype: int64"
            ]
          },
          "metadata": {},
          "execution_count": 36
        }
      ],
      "source": [
        "df[df['CC Exp Date'].apply(lambda exp: exp [3:] == '25')].count()"
      ]
    },
    {
      "cell_type": "markdown",
      "metadata": {
        "id": "0-dDiL47FwDZ"
      },
      "source": [
        "** Hard: What are the top 5 most popular email providers/hosts (e.g. gmail.com, yahoo.com, etc...) **"
      ]
    },
    {
      "cell_type": "code",
      "source": [
        "df['Email'].apply(lambda email: email.split('@')[1]).value_counts().head(5)"
      ],
      "metadata": {
        "colab": {
          "base_uri": "https://localhost:8080/"
        },
        "id": "Fmet9iWXa7MS",
        "outputId": "f5fd7d75-2496-4612-914a-335f1cf3a30c"
      },
      "execution_count": 38,
      "outputs": [
        {
          "output_type": "execute_result",
          "data": {
            "text/plain": [
              "yahoo.com      647\n",
              "hotmail.com    635\n",
              "gmail.com      585\n",
              "smith.com       14\n",
              "johnson.com     12\n",
              "Name: Email, dtype: int64"
            ]
          },
          "metadata": {},
          "execution_count": 38
        }
      ]
    },
    {
      "cell_type": "markdown",
      "metadata": {
        "id": "6AMk_GFKFwDa"
      },
      "source": [
        "# Great Job!"
      ]
    }
  ],
  "metadata": {
    "kernelspec": {
      "display_name": "Python 3",
      "language": "python",
      "name": "python3"
    },
    "language_info": {
      "codemirror_mode": {
        "name": "ipython",
        "version": 3
      },
      "file_extension": ".py",
      "mimetype": "text/x-python",
      "name": "python",
      "nbconvert_exporter": "python",
      "pygments_lexer": "ipython3",
      "version": "3.5.1"
    },
    "colab": {
      "provenance": [],
      "include_colab_link": true
    }
  },
  "nbformat": 4,
  "nbformat_minor": 0
}